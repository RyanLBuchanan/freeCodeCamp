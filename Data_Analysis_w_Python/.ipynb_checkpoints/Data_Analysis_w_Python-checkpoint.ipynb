{
 "cells": [
  {
   "cell_type": "code",
   "execution_count": null,
   "metadata": {},
   "outputs": [],
   "source": [
    "a = np.arange(5)\n",
    "a + 20"
   ]
  },
  {
   "cell_type": "code",
   "execution_count": null,
   "metadata": {},
   "outputs": [],
   "source": [
    "import pandas as pd\n",
    "\n",
    "certificates_earned = pd.Series(\n",
    "    [8, 2, 5, 6],\n",
    "    index = ['Tom', 'Kris', 'Ahmad', 'Beau']\n",
    ")\n",
    "\n",
    "print(certificates_earned)"
   ]
  },
  {
   "cell_type": "code",
   "execution_count": null,
   "metadata": {},
   "outputs": [],
   "source": [
    "print(certificates_earned[certificates_earned > 5])"
   ]
  },
  {
   "cell_type": "code",
   "execution_count": null,
   "metadata": {},
   "outputs": [],
   "source": [
    "import pandas as pd\n",
    "\n",
    "certificates_earned = pd.DataFrame({\n",
    "    'Certificates': [8, 2, 5, 6],\n",
    "    'Time (in months)': [16, 5, 9, 12]\n",
    "})\n",
    "\n",
    "certificates_earned.index = ['Tom', 'Kris', 'Ahmad', 'Beau']\n",
    "\n",
    "print(certificates_earned.iloc[2])"
   ]
  },
  {
   "cell_type": "code",
   "execution_count": null,
   "metadata": {},
   "outputs": [],
   "source": [
    "import pandas as pd\n",
    "\n",
    "certificates_earned = pd.DataFrame({\n",
    "    'Certificates': [8, 2, 5, 6],\n",
    "    'Time (in months)': [16, 5, 9, 12]\n",
    "})\n",
    "names = ['Tom', 'Kris', 'Ahmad', 'Beau']\n",
    "\n",
    "certificates_earned.index = names\n",
    "longest_streak = pd.Series([13, 11, 9, 7], index=names)\n",
    "certificates_earned['Longest Streak'] = longest_streak\n",
    "\n",
    "print(certificates_earned)"
   ]
  },
  {
   "cell_type": "code",
   "execution_count": null,
   "metadata": {},
   "outputs": [],
   "source": [
    "certificates_earned['Certificates per month'] = round(\n",
    "    certificates_earned['Certificates'] /\n",
    "    certificates_earned['Time (in months)'], 2)\n",
    "\n",
    "print(certificates_earned)"
   ]
  },
  {
   "cell_type": "code",
   "execution_count": null,
   "metadata": {},
   "outputs": [],
   "source": [
    "import pandas as pd\n",
    "import numpy as np\n",
    "\n",
    "s = pd.Series(['a', 3, np.nan, 1, np.nan])\n",
    "\n",
    "print(s.notnull().sum())"
   ]
  },
  {
   "cell_type": "code",
   "execution_count": null,
   "metadata": {},
   "outputs": [],
   "source": []
  }
 ],
 "metadata": {
  "kernelspec": {
   "display_name": "Python 3",
   "language": "python",
   "name": "python3"
  },
  "language_info": {
   "codemirror_mode": {
    "name": "ipython",
    "version": 3
   },
   "file_extension": ".py",
   "mimetype": "text/x-python",
   "name": "python",
   "nbconvert_exporter": "python",
   "pygments_lexer": "ipython3",
   "version": "3.7.6"
  },
  "varInspector": {
   "cols": {
    "lenName": 16,
    "lenType": 16,
    "lenVar": 40
   },
   "kernels_config": {
    "python": {
     "delete_cmd_postfix": "",
     "delete_cmd_prefix": "del ",
     "library": "var_list.py",
     "varRefreshCmd": "print(var_dic_list())"
    },
    "r": {
     "delete_cmd_postfix": ") ",
     "delete_cmd_prefix": "rm(",
     "library": "var_list.r",
     "varRefreshCmd": "cat(var_dic_list()) "
    }
   },
   "types_to_exclude": [
    "module",
    "function",
    "builtin_function_or_method",
    "instance",
    "_Feature"
   ],
   "window_display": false
  }
 },
 "nbformat": 4,
 "nbformat_minor": 4
}
